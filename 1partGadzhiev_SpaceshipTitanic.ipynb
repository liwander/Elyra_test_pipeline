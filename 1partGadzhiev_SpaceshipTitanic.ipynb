{
 "cells": [
  {
   "cell_type": "markdown",
   "id": "aaea21d6",
   "metadata": {
    "papermill": {
     "duration": 0.013181,
     "end_time": "2023-12-25T18:20:33.974370",
     "exception": false,
     "start_time": "2023-12-25T18:20:33.961189",
     "status": "completed"
    },
    "tags": []
   },
   "source": [
    "# Spaceship Titanic\n",
    "# Predict which passengers are transported to an alternate dimension"
   ]
  },
  {
   "cell_type": "markdown",
   "id": "6b7fa82f",
   "metadata": {
    "papermill": {
     "duration": 0.012877,
     "end_time": "2023-12-25T18:20:34.000557",
     "exception": false,
     "start_time": "2023-12-25T18:20:33.987680",
     "status": "completed"
    },
    "tags": []
   },
   "source": [
    "## Initial"
   ]
  },
  {
   "cell_type": "markdown",
   "id": "fd73097b",
   "metadata": {
    "papermill": {
     "duration": 0.005206,
     "end_time": "2023-12-25T18:20:34.013976",
     "exception": false,
     "start_time": "2023-12-25T18:20:34.008770",
     "status": "completed"
    },
    "tags": []
   },
   "source": [
    "Loading libraries"
   ]
  },
  {
   "cell_type": "code",
   "execution_count": 1,
   "id": "2a7f66c8",
   "metadata": {
    "execution": {
     "iopub.execute_input": "2023-12-25T18:20:34.024982Z",
     "iopub.status.busy": "2023-12-25T18:20:34.024778Z",
     "iopub.status.idle": "2023-12-25T18:20:34.802064Z",
     "shell.execute_reply": "2023-12-25T18:20:34.801181Z"
    },
    "papermill": {
     "duration": 0.784901,
     "end_time": "2023-12-25T18:20:34.803697",
     "exception": false,
     "start_time": "2023-12-25T18:20:34.018796",
     "status": "completed"
    },
    "tags": []
   },
   "outputs": [],
   "source": [
    "import pandas as pd\n",
    "import numpy as np\n",
    "import matplotlib.pyplot as plt\n",
    "%matplotlib inline\n",
    "import seaborn as sns\n",
    "import random\n",
    "from collections import Counter\n",
    "sns.set() "
   ]
  },
  {
   "cell_type": "markdown",
   "id": "436ee9f9",
   "metadata": {
    "papermill": {
     "duration": 0.007887,
     "end_time": "2023-12-25T18:20:34.816377",
     "exception": false,
     "start_time": "2023-12-25T18:20:34.808490",
     "status": "completed"
    },
    "tags": []
   },
   "source": [
    "Uploading datasets"
   ]
  },
  {
   "cell_type": "code",
   "execution_count": 2,
   "id": "e63ddc12",
   "metadata": {
    "execution": {
     "iopub.execute_input": "2023-12-25T18:20:34.828167Z",
     "iopub.status.busy": "2023-12-25T18:20:34.827567Z",
     "iopub.status.idle": "2023-12-25T18:20:34.857017Z",
     "shell.execute_reply": "2023-12-25T18:20:34.856115Z"
    },
    "papermill": {
     "duration": 0.038201,
     "end_time": "2023-12-25T18:20:34.859556",
     "exception": false,
     "start_time": "2023-12-25T18:20:34.821355",
     "status": "completed"
    },
    "tags": []
   },
   "outputs": [],
   "source": [
    "train = pd.read_csv('./train.csv', index_col='PassengerId')\n",
    "test = pd.read_csv('./test.csv', index_col='PassengerId')"
   ]
  },
  {
   "cell_type": "code",
   "execution_count": 3,
   "id": "f893856f",
   "metadata": {
    "execution": {
     "iopub.execute_input": "2023-12-25T18:20:34.876630Z",
     "iopub.status.busy": "2023-12-25T18:20:34.876405Z",
     "iopub.status.idle": "2023-12-25T18:20:34.889438Z",
     "shell.execute_reply": "2023-12-25T18:20:34.888492Z"
    },
    "papermill": {
     "duration": 0.020972,
     "end_time": "2023-12-25T18:20:34.891144",
     "exception": false,
     "start_time": "2023-12-25T18:20:34.870172",
     "status": "completed"
    },
    "tags": []
   },
   "outputs": [
    {
     "data": {
      "text/html": [
       "<div>\n",
       "<style scoped>\n",
       "    .dataframe tbody tr th:only-of-type {\n",
       "        vertical-align: middle;\n",
       "    }\n",
       "\n",
       "    .dataframe tbody tr th {\n",
       "        vertical-align: top;\n",
       "    }\n",
       "\n",
       "    .dataframe thead th {\n",
       "        text-align: right;\n",
       "    }\n",
       "</style>\n",
       "<table border=\"1\" class=\"dataframe\">\n",
       "  <thead>\n",
       "    <tr style=\"text-align: right;\">\n",
       "      <th></th>\n",
       "      <th>HomePlanet</th>\n",
       "      <th>CryoSleep</th>\n",
       "      <th>Cabin</th>\n",
       "      <th>Destination</th>\n",
       "      <th>Age</th>\n",
       "      <th>VIP</th>\n",
       "      <th>RoomService</th>\n",
       "      <th>FoodCourt</th>\n",
       "      <th>ShoppingMall</th>\n",
       "      <th>Spa</th>\n",
       "      <th>VRDeck</th>\n",
       "      <th>Name</th>\n",
       "      <th>Transported</th>\n",
       "    </tr>\n",
       "    <tr>\n",
       "      <th>PassengerId</th>\n",
       "      <th></th>\n",
       "      <th></th>\n",
       "      <th></th>\n",
       "      <th></th>\n",
       "      <th></th>\n",
       "      <th></th>\n",
       "      <th></th>\n",
       "      <th></th>\n",
       "      <th></th>\n",
       "      <th></th>\n",
       "      <th></th>\n",
       "      <th></th>\n",
       "      <th></th>\n",
       "    </tr>\n",
       "  </thead>\n",
       "  <tbody>\n",
       "    <tr>\n",
       "      <th>0001_01</th>\n",
       "      <td>Europa</td>\n",
       "      <td>False</td>\n",
       "      <td>B/0/P</td>\n",
       "      <td>TRAPPIST-1e</td>\n",
       "      <td>39.0</td>\n",
       "      <td>False</td>\n",
       "      <td>0.0</td>\n",
       "      <td>0.0</td>\n",
       "      <td>0.0</td>\n",
       "      <td>0.0</td>\n",
       "      <td>0.0</td>\n",
       "      <td>Maham Ofracculy</td>\n",
       "      <td>False</td>\n",
       "    </tr>\n",
       "    <tr>\n",
       "      <th>0002_01</th>\n",
       "      <td>Earth</td>\n",
       "      <td>False</td>\n",
       "      <td>F/0/S</td>\n",
       "      <td>TRAPPIST-1e</td>\n",
       "      <td>24.0</td>\n",
       "      <td>False</td>\n",
       "      <td>109.0</td>\n",
       "      <td>9.0</td>\n",
       "      <td>25.0</td>\n",
       "      <td>549.0</td>\n",
       "      <td>44.0</td>\n",
       "      <td>Juanna Vines</td>\n",
       "      <td>True</td>\n",
       "    </tr>\n",
       "    <tr>\n",
       "      <th>0003_01</th>\n",
       "      <td>Europa</td>\n",
       "      <td>False</td>\n",
       "      <td>A/0/S</td>\n",
       "      <td>TRAPPIST-1e</td>\n",
       "      <td>58.0</td>\n",
       "      <td>True</td>\n",
       "      <td>43.0</td>\n",
       "      <td>3576.0</td>\n",
       "      <td>0.0</td>\n",
       "      <td>6715.0</td>\n",
       "      <td>49.0</td>\n",
       "      <td>Altark Susent</td>\n",
       "      <td>False</td>\n",
       "    </tr>\n",
       "    <tr>\n",
       "      <th>0003_02</th>\n",
       "      <td>Europa</td>\n",
       "      <td>False</td>\n",
       "      <td>A/0/S</td>\n",
       "      <td>TRAPPIST-1e</td>\n",
       "      <td>33.0</td>\n",
       "      <td>False</td>\n",
       "      <td>0.0</td>\n",
       "      <td>1283.0</td>\n",
       "      <td>371.0</td>\n",
       "      <td>3329.0</td>\n",
       "      <td>193.0</td>\n",
       "      <td>Solam Susent</td>\n",
       "      <td>False</td>\n",
       "    </tr>\n",
       "    <tr>\n",
       "      <th>0004_01</th>\n",
       "      <td>Earth</td>\n",
       "      <td>False</td>\n",
       "      <td>F/1/S</td>\n",
       "      <td>TRAPPIST-1e</td>\n",
       "      <td>16.0</td>\n",
       "      <td>False</td>\n",
       "      <td>303.0</td>\n",
       "      <td>70.0</td>\n",
       "      <td>151.0</td>\n",
       "      <td>565.0</td>\n",
       "      <td>2.0</td>\n",
       "      <td>Willy Santantines</td>\n",
       "      <td>True</td>\n",
       "    </tr>\n",
       "  </tbody>\n",
       "</table>\n",
       "</div>"
      ],
      "text/plain": [
       "            HomePlanet CryoSleep  Cabin  Destination   Age    VIP  \\\n",
       "PassengerId                                                         \n",
       "0001_01         Europa     False  B/0/P  TRAPPIST-1e  39.0  False   \n",
       "0002_01          Earth     False  F/0/S  TRAPPIST-1e  24.0  False   \n",
       "0003_01         Europa     False  A/0/S  TRAPPIST-1e  58.0   True   \n",
       "0003_02         Europa     False  A/0/S  TRAPPIST-1e  33.0  False   \n",
       "0004_01          Earth     False  F/1/S  TRAPPIST-1e  16.0  False   \n",
       "\n",
       "             RoomService  FoodCourt  ShoppingMall     Spa  VRDeck  \\\n",
       "PassengerId                                                         \n",
       "0001_01              0.0        0.0           0.0     0.0     0.0   \n",
       "0002_01            109.0        9.0          25.0   549.0    44.0   \n",
       "0003_01             43.0     3576.0           0.0  6715.0    49.0   \n",
       "0003_02              0.0     1283.0         371.0  3329.0   193.0   \n",
       "0004_01            303.0       70.0         151.0   565.0     2.0   \n",
       "\n",
       "                          Name  Transported  \n",
       "PassengerId                                  \n",
       "0001_01        Maham Ofracculy        False  \n",
       "0002_01           Juanna Vines         True  \n",
       "0003_01          Altark Susent        False  \n",
       "0003_02           Solam Susent        False  \n",
       "0004_01      Willy Santantines         True  "
      ]
     },
     "execution_count": 3,
     "metadata": {},
     "output_type": "execute_result"
    }
   ],
   "source": [
    "train.head()"
   ]
  },
  {
   "cell_type": "markdown",
   "id": "a13240a2",
   "metadata": {
    "papermill": {
     "duration": 0.008527,
     "end_time": "2023-12-25T18:20:34.905577",
     "exception": false,
     "start_time": "2023-12-25T18:20:34.897050",
     "status": "completed"
    },
    "tags": []
   },
   "source": [
    "- PassengerId - A unique Id for each passenger. Each Id takes the form gggg_pp where gggg indicates a group the passenger is travelling with and pp is their number within the group. People in a group are often family members, but not always.\n",
    "\n",
    "- HomePlanet - The planet the passenger departed from, typically their planet of permanent residence.\n",
    "\n",
    "- CryoSleep - Indicates whether the passenger elected to be put into suspended animation for the duration of the voyage. Passengers in cryosleep are confined to their cabins.\n",
    "\n",
    "- Cabin - The cabin number where the passenger is staying. Takes the form deck/num/side, where side can be either P for Port or S for Starboard.\n",
    "\n",
    "- Destination - The planet the passenger will be debarking to.\n",
    "- Age - The age of the passenger.\n",
    "- VIP - Whether the passenger has paid for special VIP service during the voyage.\n",
    "- RoomService, FoodCourt, ShoppingMall, Spa, VRDeck - Amount the passenger has billed at each of the Spaceship Titanic's many luxury amenities.\n",
    "- Name - The first and last names of the passenger.\n",
    "- Transported - Whether the passenger was transported to another dimension. This is the target, the column you are trying to predict."
   ]
  },
  {
   "cell_type": "code",
   "execution_count": 4,
   "id": "2b0ada36",
   "metadata": {
    "execution": {
     "iopub.execute_input": "2023-12-25T18:20:34.919156Z",
     "iopub.status.busy": "2023-12-25T18:20:34.918952Z",
     "iopub.status.idle": "2023-12-25T18:20:34.923305Z",
     "shell.execute_reply": "2023-12-25T18:20:34.922740Z"
    },
    "papermill": {
     "duration": 0.011633,
     "end_time": "2023-12-25T18:20:34.924481",
     "exception": false,
     "start_time": "2023-12-25T18:20:34.912848",
     "status": "completed"
    },
    "tags": []
   },
   "outputs": [
    {
     "data": {
      "text/plain": [
       "(8693, 13)"
      ]
     },
     "execution_count": 4,
     "metadata": {},
     "output_type": "execute_result"
    }
   ],
   "source": [
    "train.shape"
   ]
  },
  {
   "cell_type": "code",
   "execution_count": 5,
   "id": "1853e14d",
   "metadata": {
    "execution": {
     "iopub.execute_input": "2023-12-25T18:20:34.936653Z",
     "iopub.status.busy": "2023-12-25T18:20:34.935837Z",
     "iopub.status.idle": "2023-12-25T18:20:34.951498Z",
     "shell.execute_reply": "2023-12-25T18:20:34.950832Z"
    },
    "papermill": {
     "duration": 0.023272,
     "end_time": "2023-12-25T18:20:34.952663",
     "exception": false,
     "start_time": "2023-12-25T18:20:34.929391",
     "status": "completed"
    },
    "tags": []
   },
   "outputs": [
    {
     "data": {
      "text/html": [
       "<div>\n",
       "<style scoped>\n",
       "    .dataframe tbody tr th:only-of-type {\n",
       "        vertical-align: middle;\n",
       "    }\n",
       "\n",
       "    .dataframe tbody tr th {\n",
       "        vertical-align: top;\n",
       "    }\n",
       "\n",
       "    .dataframe thead th {\n",
       "        text-align: right;\n",
       "    }\n",
       "</style>\n",
       "<table border=\"1\" class=\"dataframe\">\n",
       "  <thead>\n",
       "    <tr style=\"text-align: right;\">\n",
       "      <th></th>\n",
       "      <th>Age</th>\n",
       "      <th>RoomService</th>\n",
       "      <th>FoodCourt</th>\n",
       "      <th>ShoppingMall</th>\n",
       "      <th>Spa</th>\n",
       "      <th>VRDeck</th>\n",
       "    </tr>\n",
       "  </thead>\n",
       "  <tbody>\n",
       "    <tr>\n",
       "      <th>count</th>\n",
       "      <td>8514.000000</td>\n",
       "      <td>8512.000000</td>\n",
       "      <td>8510.000000</td>\n",
       "      <td>8485.000000</td>\n",
       "      <td>8510.000000</td>\n",
       "      <td>8505.000000</td>\n",
       "    </tr>\n",
       "    <tr>\n",
       "      <th>mean</th>\n",
       "      <td>28.827930</td>\n",
       "      <td>224.687617</td>\n",
       "      <td>458.077203</td>\n",
       "      <td>173.729169</td>\n",
       "      <td>311.138778</td>\n",
       "      <td>304.854791</td>\n",
       "    </tr>\n",
       "    <tr>\n",
       "      <th>std</th>\n",
       "      <td>14.489021</td>\n",
       "      <td>666.717663</td>\n",
       "      <td>1611.489240</td>\n",
       "      <td>604.696458</td>\n",
       "      <td>1136.705535</td>\n",
       "      <td>1145.717189</td>\n",
       "    </tr>\n",
       "    <tr>\n",
       "      <th>min</th>\n",
       "      <td>0.000000</td>\n",
       "      <td>0.000000</td>\n",
       "      <td>0.000000</td>\n",
       "      <td>0.000000</td>\n",
       "      <td>0.000000</td>\n",
       "      <td>0.000000</td>\n",
       "    </tr>\n",
       "    <tr>\n",
       "      <th>25%</th>\n",
       "      <td>19.000000</td>\n",
       "      <td>0.000000</td>\n",
       "      <td>0.000000</td>\n",
       "      <td>0.000000</td>\n",
       "      <td>0.000000</td>\n",
       "      <td>0.000000</td>\n",
       "    </tr>\n",
       "    <tr>\n",
       "      <th>50%</th>\n",
       "      <td>27.000000</td>\n",
       "      <td>0.000000</td>\n",
       "      <td>0.000000</td>\n",
       "      <td>0.000000</td>\n",
       "      <td>0.000000</td>\n",
       "      <td>0.000000</td>\n",
       "    </tr>\n",
       "    <tr>\n",
       "      <th>75%</th>\n",
       "      <td>38.000000</td>\n",
       "      <td>47.000000</td>\n",
       "      <td>76.000000</td>\n",
       "      <td>27.000000</td>\n",
       "      <td>59.000000</td>\n",
       "      <td>46.000000</td>\n",
       "    </tr>\n",
       "    <tr>\n",
       "      <th>max</th>\n",
       "      <td>79.000000</td>\n",
       "      <td>14327.000000</td>\n",
       "      <td>29813.000000</td>\n",
       "      <td>23492.000000</td>\n",
       "      <td>22408.000000</td>\n",
       "      <td>24133.000000</td>\n",
       "    </tr>\n",
       "  </tbody>\n",
       "</table>\n",
       "</div>"
      ],
      "text/plain": [
       "               Age   RoomService     FoodCourt  ShoppingMall           Spa  \\\n",
       "count  8514.000000   8512.000000   8510.000000   8485.000000   8510.000000   \n",
       "mean     28.827930    224.687617    458.077203    173.729169    311.138778   \n",
       "std      14.489021    666.717663   1611.489240    604.696458   1136.705535   \n",
       "min       0.000000      0.000000      0.000000      0.000000      0.000000   \n",
       "25%      19.000000      0.000000      0.000000      0.000000      0.000000   \n",
       "50%      27.000000      0.000000      0.000000      0.000000      0.000000   \n",
       "75%      38.000000     47.000000     76.000000     27.000000     59.000000   \n",
       "max      79.000000  14327.000000  29813.000000  23492.000000  22408.000000   \n",
       "\n",
       "             VRDeck  \n",
       "count   8505.000000  \n",
       "mean     304.854791  \n",
       "std     1145.717189  \n",
       "min        0.000000  \n",
       "25%        0.000000  \n",
       "50%        0.000000  \n",
       "75%       46.000000  \n",
       "max    24133.000000  "
      ]
     },
     "execution_count": 5,
     "metadata": {},
     "output_type": "execute_result"
    }
   ],
   "source": [
    "train.describe()"
   ]
  },
  {
   "cell_type": "code",
   "execution_count": 6,
   "id": "92b8f72a",
   "metadata": {
    "execution": {
     "iopub.execute_input": "2023-12-25T18:20:34.964327Z",
     "iopub.status.busy": "2023-12-25T18:20:34.963905Z",
     "iopub.status.idle": "2023-12-25T18:20:34.980792Z",
     "shell.execute_reply": "2023-12-25T18:20:34.980102Z"
    },
    "papermill": {
     "duration": 0.024811,
     "end_time": "2023-12-25T18:20:34.982610",
     "exception": false,
     "start_time": "2023-12-25T18:20:34.957799",
     "status": "completed"
    },
    "tags": []
   },
   "outputs": [
    {
     "data": {
      "text/html": [
       "<div>\n",
       "<style scoped>\n",
       "    .dataframe tbody tr th:only-of-type {\n",
       "        vertical-align: middle;\n",
       "    }\n",
       "\n",
       "    .dataframe tbody tr th {\n",
       "        vertical-align: top;\n",
       "    }\n",
       "\n",
       "    .dataframe thead th {\n",
       "        text-align: right;\n",
       "    }\n",
       "</style>\n",
       "<table border=\"1\" class=\"dataframe\">\n",
       "  <thead>\n",
       "    <tr style=\"text-align: right;\">\n",
       "      <th></th>\n",
       "      <th>HomePlanet</th>\n",
       "      <th>CryoSleep</th>\n",
       "      <th>Cabin</th>\n",
       "      <th>Destination</th>\n",
       "      <th>VIP</th>\n",
       "      <th>Name</th>\n",
       "    </tr>\n",
       "  </thead>\n",
       "  <tbody>\n",
       "    <tr>\n",
       "      <th>count</th>\n",
       "      <td>8492</td>\n",
       "      <td>8476</td>\n",
       "      <td>8494</td>\n",
       "      <td>8511</td>\n",
       "      <td>8490</td>\n",
       "      <td>8493</td>\n",
       "    </tr>\n",
       "    <tr>\n",
       "      <th>unique</th>\n",
       "      <td>3</td>\n",
       "      <td>2</td>\n",
       "      <td>6560</td>\n",
       "      <td>3</td>\n",
       "      <td>2</td>\n",
       "      <td>8473</td>\n",
       "    </tr>\n",
       "    <tr>\n",
       "      <th>top</th>\n",
       "      <td>Earth</td>\n",
       "      <td>False</td>\n",
       "      <td>G/734/S</td>\n",
       "      <td>TRAPPIST-1e</td>\n",
       "      <td>False</td>\n",
       "      <td>Gollux Reedall</td>\n",
       "    </tr>\n",
       "    <tr>\n",
       "      <th>freq</th>\n",
       "      <td>4602</td>\n",
       "      <td>5439</td>\n",
       "      <td>8</td>\n",
       "      <td>5915</td>\n",
       "      <td>8291</td>\n",
       "      <td>2</td>\n",
       "    </tr>\n",
       "  </tbody>\n",
       "</table>\n",
       "</div>"
      ],
      "text/plain": [
       "       HomePlanet CryoSleep    Cabin  Destination    VIP            Name\n",
       "count        8492      8476     8494         8511   8490            8493\n",
       "unique          3         2     6560            3      2            8473\n",
       "top         Earth     False  G/734/S  TRAPPIST-1e  False  Gollux Reedall\n",
       "freq         4602      5439        8         5915   8291               2"
      ]
     },
     "execution_count": 6,
     "metadata": {},
     "output_type": "execute_result"
    }
   ],
   "source": [
    "train.describe(include=['O'])"
   ]
  },
  {
   "cell_type": "markdown",
   "id": "617036b6",
   "metadata": {
    "papermill": {
     "duration": 0.005163,
     "end_time": "2023-12-25T18:20:34.992976",
     "exception": false,
     "start_time": "2023-12-25T18:20:34.987813",
     "status": "completed"
    },
    "tags": []
   },
   "source": [
    "- the average age is 29 years\n",
    "- there are 3 planets from where they fly and the same number where they fly\n",
    "- there are cabins that are being reused\n",
    "- there are identical names"
   ]
  },
  {
   "cell_type": "code",
   "execution_count": 7,
   "id": "95edf4f5",
   "metadata": {
    "execution": {
     "iopub.execute_input": "2023-12-25T18:20:35.005124Z",
     "iopub.status.busy": "2023-12-25T18:20:35.004722Z",
     "iopub.status.idle": "2023-12-25T18:20:35.015276Z",
     "shell.execute_reply": "2023-12-25T18:20:35.014575Z"
    },
    "papermill": {
     "duration": 0.018563,
     "end_time": "2023-12-25T18:20:35.016738",
     "exception": false,
     "start_time": "2023-12-25T18:20:34.998175",
     "status": "completed"
    },
    "tags": []
   },
   "outputs": [
    {
     "name": "stdout",
     "output_type": "stream",
     "text": [
      "<class 'pandas.core.frame.DataFrame'>\n",
      "Index: 8693 entries, 0001_01 to 9280_02\n",
      "Data columns (total 13 columns):\n",
      " #   Column        Non-Null Count  Dtype  \n",
      "---  ------        --------------  -----  \n",
      " 0   HomePlanet    8492 non-null   object \n",
      " 1   CryoSleep     8476 non-null   object \n",
      " 2   Cabin         8494 non-null   object \n",
      " 3   Destination   8511 non-null   object \n",
      " 4   Age           8514 non-null   float64\n",
      " 5   VIP           8490 non-null   object \n",
      " 6   RoomService   8512 non-null   float64\n",
      " 7   FoodCourt     8510 non-null   float64\n",
      " 8   ShoppingMall  8485 non-null   float64\n",
      " 9   Spa           8510 non-null   float64\n",
      " 10  VRDeck        8505 non-null   float64\n",
      " 11  Name          8493 non-null   object \n",
      " 12  Transported   8693 non-null   bool   \n",
      "dtypes: bool(1), float64(6), object(6)\n",
      "memory usage: 891.4+ KB\n"
     ]
    }
   ],
   "source": [
    "train.info()"
   ]
  },
  {
   "cell_type": "markdown",
   "id": "2bfb0358",
   "metadata": {
    "papermill": {
     "duration": 0.005601,
     "end_time": "2023-12-25T18:20:35.027784",
     "exception": false,
     "start_time": "2023-12-25T18:20:35.022183",
     "status": "completed"
    },
    "tags": []
   },
   "source": [
    "- there are missing values in all columns"
   ]
  },
  {
   "cell_type": "code",
   "execution_count": 8,
   "id": "9520794f",
   "metadata": {
    "execution": {
     "iopub.execute_input": "2023-12-25T18:20:35.040351Z",
     "iopub.status.busy": "2023-12-25T18:20:35.039898Z",
     "iopub.status.idle": "2023-12-25T18:20:35.050095Z",
     "shell.execute_reply": "2023-12-25T18:20:35.049128Z"
    },
    "papermill": {
     "duration": 0.018945,
     "end_time": "2023-12-25T18:20:35.052127",
     "exception": false,
     "start_time": "2023-12-25T18:20:35.033182",
     "status": "completed"
    },
    "tags": []
   },
   "outputs": [
    {
     "data": {
      "text/plain": [
       "HomePlanet      201\n",
       "CryoSleep       217\n",
       "Cabin           199\n",
       "Destination     182\n",
       "Age             179\n",
       "VIP             203\n",
       "RoomService     181\n",
       "FoodCourt       183\n",
       "ShoppingMall    208\n",
       "Spa             183\n",
       "VRDeck          188\n",
       "Name            200\n",
       "Transported       0\n",
       "dtype: int64"
      ]
     },
     "execution_count": 8,
     "metadata": {},
     "output_type": "execute_result"
    }
   ],
   "source": [
    "train.isnull().sum()"
   ]
  },
  {
   "cell_type": "markdown",
   "id": "1768b16e",
   "metadata": {
    "papermill": {
     "duration": 0.005574,
     "end_time": "2023-12-25T18:20:35.063063",
     "exception": false,
     "start_time": "2023-12-25T18:20:35.057489",
     "status": "completed"
    },
    "tags": []
   },
   "source": [
    "## Exploring the test dataset"
   ]
  },
  {
   "cell_type": "code",
   "execution_count": 9,
   "id": "8adbfb30",
   "metadata": {
    "execution": {
     "iopub.execute_input": "2023-12-25T18:20:35.075590Z",
     "iopub.status.busy": "2023-12-25T18:20:35.075138Z",
     "iopub.status.idle": "2023-12-25T18:20:35.100813Z",
     "shell.execute_reply": "2023-12-25T18:20:35.099459Z"
    },
    "papermill": {
     "duration": 0.03437,
     "end_time": "2023-12-25T18:20:35.102748",
     "exception": false,
     "start_time": "2023-12-25T18:20:35.068378",
     "status": "completed"
    },
    "tags": []
   },
   "outputs": [
    {
     "data": {
      "text/html": [
       "<div>\n",
       "<style scoped>\n",
       "    .dataframe tbody tr th:only-of-type {\n",
       "        vertical-align: middle;\n",
       "    }\n",
       "\n",
       "    .dataframe tbody tr th {\n",
       "        vertical-align: top;\n",
       "    }\n",
       "\n",
       "    .dataframe thead th {\n",
       "        text-align: right;\n",
       "    }\n",
       "</style>\n",
       "<table border=\"1\" class=\"dataframe\">\n",
       "  <thead>\n",
       "    <tr style=\"text-align: right;\">\n",
       "      <th></th>\n",
       "      <th>HomePlanet</th>\n",
       "      <th>CryoSleep</th>\n",
       "      <th>Cabin</th>\n",
       "      <th>Destination</th>\n",
       "      <th>Age</th>\n",
       "      <th>VIP</th>\n",
       "      <th>RoomService</th>\n",
       "      <th>FoodCourt</th>\n",
       "      <th>ShoppingMall</th>\n",
       "      <th>Spa</th>\n",
       "      <th>VRDeck</th>\n",
       "      <th>Name</th>\n",
       "    </tr>\n",
       "    <tr>\n",
       "      <th>PassengerId</th>\n",
       "      <th></th>\n",
       "      <th></th>\n",
       "      <th></th>\n",
       "      <th></th>\n",
       "      <th></th>\n",
       "      <th></th>\n",
       "      <th></th>\n",
       "      <th></th>\n",
       "      <th></th>\n",
       "      <th></th>\n",
       "      <th></th>\n",
       "      <th></th>\n",
       "    </tr>\n",
       "  </thead>\n",
       "  <tbody>\n",
       "    <tr>\n",
       "      <th>0013_01</th>\n",
       "      <td>Earth</td>\n",
       "      <td>True</td>\n",
       "      <td>G/3/S</td>\n",
       "      <td>TRAPPIST-1e</td>\n",
       "      <td>27.0</td>\n",
       "      <td>False</td>\n",
       "      <td>0.0</td>\n",
       "      <td>0.0</td>\n",
       "      <td>0.0</td>\n",
       "      <td>0.0</td>\n",
       "      <td>0.0</td>\n",
       "      <td>Nelly Carsoning</td>\n",
       "    </tr>\n",
       "    <tr>\n",
       "      <th>0018_01</th>\n",
       "      <td>Earth</td>\n",
       "      <td>False</td>\n",
       "      <td>F/4/S</td>\n",
       "      <td>TRAPPIST-1e</td>\n",
       "      <td>19.0</td>\n",
       "      <td>False</td>\n",
       "      <td>0.0</td>\n",
       "      <td>9.0</td>\n",
       "      <td>0.0</td>\n",
       "      <td>2823.0</td>\n",
       "      <td>0.0</td>\n",
       "      <td>Lerome Peckers</td>\n",
       "    </tr>\n",
       "    <tr>\n",
       "      <th>0019_01</th>\n",
       "      <td>Europa</td>\n",
       "      <td>True</td>\n",
       "      <td>C/0/S</td>\n",
       "      <td>55 Cancri e</td>\n",
       "      <td>31.0</td>\n",
       "      <td>False</td>\n",
       "      <td>0.0</td>\n",
       "      <td>0.0</td>\n",
       "      <td>0.0</td>\n",
       "      <td>0.0</td>\n",
       "      <td>0.0</td>\n",
       "      <td>Sabih Unhearfus</td>\n",
       "    </tr>\n",
       "    <tr>\n",
       "      <th>0021_01</th>\n",
       "      <td>Europa</td>\n",
       "      <td>False</td>\n",
       "      <td>C/1/S</td>\n",
       "      <td>TRAPPIST-1e</td>\n",
       "      <td>38.0</td>\n",
       "      <td>False</td>\n",
       "      <td>0.0</td>\n",
       "      <td>6652.0</td>\n",
       "      <td>0.0</td>\n",
       "      <td>181.0</td>\n",
       "      <td>585.0</td>\n",
       "      <td>Meratz Caltilter</td>\n",
       "    </tr>\n",
       "    <tr>\n",
       "      <th>0023_01</th>\n",
       "      <td>Earth</td>\n",
       "      <td>False</td>\n",
       "      <td>F/5/S</td>\n",
       "      <td>TRAPPIST-1e</td>\n",
       "      <td>20.0</td>\n",
       "      <td>False</td>\n",
       "      <td>10.0</td>\n",
       "      <td>0.0</td>\n",
       "      <td>635.0</td>\n",
       "      <td>0.0</td>\n",
       "      <td>0.0</td>\n",
       "      <td>Brence Harperez</td>\n",
       "    </tr>\n",
       "  </tbody>\n",
       "</table>\n",
       "</div>"
      ],
      "text/plain": [
       "            HomePlanet CryoSleep  Cabin  Destination   Age    VIP  \\\n",
       "PassengerId                                                         \n",
       "0013_01          Earth      True  G/3/S  TRAPPIST-1e  27.0  False   \n",
       "0018_01          Earth     False  F/4/S  TRAPPIST-1e  19.0  False   \n",
       "0019_01         Europa      True  C/0/S  55 Cancri e  31.0  False   \n",
       "0021_01         Europa     False  C/1/S  TRAPPIST-1e  38.0  False   \n",
       "0023_01          Earth     False  F/5/S  TRAPPIST-1e  20.0  False   \n",
       "\n",
       "             RoomService  FoodCourt  ShoppingMall     Spa  VRDeck  \\\n",
       "PassengerId                                                         \n",
       "0013_01              0.0        0.0           0.0     0.0     0.0   \n",
       "0018_01              0.0        9.0           0.0  2823.0     0.0   \n",
       "0019_01              0.0        0.0           0.0     0.0     0.0   \n",
       "0021_01              0.0     6652.0           0.0   181.0   585.0   \n",
       "0023_01             10.0        0.0         635.0     0.0     0.0   \n",
       "\n",
       "                         Name  \n",
       "PassengerId                    \n",
       "0013_01       Nelly Carsoning  \n",
       "0018_01        Lerome Peckers  \n",
       "0019_01       Sabih Unhearfus  \n",
       "0021_01      Meratz Caltilter  \n",
       "0023_01       Brence Harperez  "
      ]
     },
     "execution_count": 9,
     "metadata": {},
     "output_type": "execute_result"
    }
   ],
   "source": [
    "test.head()"
   ]
  },
  {
   "cell_type": "code",
   "execution_count": 10,
   "id": "490888ac",
   "metadata": {
    "execution": {
     "iopub.execute_input": "2023-12-25T18:20:35.116017Z",
     "iopub.status.busy": "2023-12-25T18:20:35.115520Z",
     "iopub.status.idle": "2023-12-25T18:20:35.122830Z",
     "shell.execute_reply": "2023-12-25T18:20:35.121786Z"
    },
    "papermill": {
     "duration": 0.016049,
     "end_time": "2023-12-25T18:20:35.124314",
     "exception": false,
     "start_time": "2023-12-25T18:20:35.108265",
     "status": "completed"
    },
    "tags": []
   },
   "outputs": [
    {
     "data": {
      "text/plain": [
       "(4277, 12)"
      ]
     },
     "execution_count": 10,
     "metadata": {},
     "output_type": "execute_result"
    }
   ],
   "source": [
    "test.shape"
   ]
  },
  {
   "cell_type": "code",
   "execution_count": 11,
   "id": "2546bb40",
   "metadata": {
    "execution": {
     "iopub.execute_input": "2023-12-25T18:20:35.138632Z",
     "iopub.status.busy": "2023-12-25T18:20:35.138186Z",
     "iopub.status.idle": "2023-12-25T18:20:35.168670Z",
     "shell.execute_reply": "2023-12-25T18:20:35.167817Z"
    },
    "papermill": {
     "duration": 0.039173,
     "end_time": "2023-12-25T18:20:35.170184",
     "exception": false,
     "start_time": "2023-12-25T18:20:35.131011",
     "status": "completed"
    },
    "tags": []
   },
   "outputs": [
    {
     "data": {
      "text/html": [
       "<div>\n",
       "<style scoped>\n",
       "    .dataframe tbody tr th:only-of-type {\n",
       "        vertical-align: middle;\n",
       "    }\n",
       "\n",
       "    .dataframe tbody tr th {\n",
       "        vertical-align: top;\n",
       "    }\n",
       "\n",
       "    .dataframe thead th {\n",
       "        text-align: right;\n",
       "    }\n",
       "</style>\n",
       "<table border=\"1\" class=\"dataframe\">\n",
       "  <thead>\n",
       "    <tr style=\"text-align: right;\">\n",
       "      <th></th>\n",
       "      <th>Age</th>\n",
       "      <th>RoomService</th>\n",
       "      <th>FoodCourt</th>\n",
       "      <th>ShoppingMall</th>\n",
       "      <th>Spa</th>\n",
       "      <th>VRDeck</th>\n",
       "    </tr>\n",
       "  </thead>\n",
       "  <tbody>\n",
       "    <tr>\n",
       "      <th>count</th>\n",
       "      <td>4186.000000</td>\n",
       "      <td>4195.000000</td>\n",
       "      <td>4171.000000</td>\n",
       "      <td>4179.000000</td>\n",
       "      <td>4176.000000</td>\n",
       "      <td>4197.000000</td>\n",
       "    </tr>\n",
       "    <tr>\n",
       "      <th>mean</th>\n",
       "      <td>28.658146</td>\n",
       "      <td>219.266269</td>\n",
       "      <td>439.484296</td>\n",
       "      <td>177.295525</td>\n",
       "      <td>303.052443</td>\n",
       "      <td>310.710031</td>\n",
       "    </tr>\n",
       "    <tr>\n",
       "      <th>std</th>\n",
       "      <td>14.179072</td>\n",
       "      <td>607.011289</td>\n",
       "      <td>1527.663045</td>\n",
       "      <td>560.821123</td>\n",
       "      <td>1117.186015</td>\n",
       "      <td>1246.994742</td>\n",
       "    </tr>\n",
       "    <tr>\n",
       "      <th>min</th>\n",
       "      <td>0.000000</td>\n",
       "      <td>0.000000</td>\n",
       "      <td>0.000000</td>\n",
       "      <td>0.000000</td>\n",
       "      <td>0.000000</td>\n",
       "      <td>0.000000</td>\n",
       "    </tr>\n",
       "    <tr>\n",
       "      <th>25%</th>\n",
       "      <td>19.000000</td>\n",
       "      <td>0.000000</td>\n",
       "      <td>0.000000</td>\n",
       "      <td>0.000000</td>\n",
       "      <td>0.000000</td>\n",
       "      <td>0.000000</td>\n",
       "    </tr>\n",
       "    <tr>\n",
       "      <th>50%</th>\n",
       "      <td>26.000000</td>\n",
       "      <td>0.000000</td>\n",
       "      <td>0.000000</td>\n",
       "      <td>0.000000</td>\n",
       "      <td>0.000000</td>\n",
       "      <td>0.000000</td>\n",
       "    </tr>\n",
       "    <tr>\n",
       "      <th>75%</th>\n",
       "      <td>37.000000</td>\n",
       "      <td>53.000000</td>\n",
       "      <td>78.000000</td>\n",
       "      <td>33.000000</td>\n",
       "      <td>50.000000</td>\n",
       "      <td>36.000000</td>\n",
       "    </tr>\n",
       "    <tr>\n",
       "      <th>max</th>\n",
       "      <td>79.000000</td>\n",
       "      <td>11567.000000</td>\n",
       "      <td>25273.000000</td>\n",
       "      <td>8292.000000</td>\n",
       "      <td>19844.000000</td>\n",
       "      <td>22272.000000</td>\n",
       "    </tr>\n",
       "  </tbody>\n",
       "</table>\n",
       "</div>"
      ],
      "text/plain": [
       "               Age   RoomService     FoodCourt  ShoppingMall           Spa  \\\n",
       "count  4186.000000   4195.000000   4171.000000   4179.000000   4176.000000   \n",
       "mean     28.658146    219.266269    439.484296    177.295525    303.052443   \n",
       "std      14.179072    607.011289   1527.663045    560.821123   1117.186015   \n",
       "min       0.000000      0.000000      0.000000      0.000000      0.000000   \n",
       "25%      19.000000      0.000000      0.000000      0.000000      0.000000   \n",
       "50%      26.000000      0.000000      0.000000      0.000000      0.000000   \n",
       "75%      37.000000     53.000000     78.000000     33.000000     50.000000   \n",
       "max      79.000000  11567.000000  25273.000000   8292.000000  19844.000000   \n",
       "\n",
       "             VRDeck  \n",
       "count   4197.000000  \n",
       "mean     310.710031  \n",
       "std     1246.994742  \n",
       "min        0.000000  \n",
       "25%        0.000000  \n",
       "50%        0.000000  \n",
       "75%       36.000000  \n",
       "max    22272.000000  "
      ]
     },
     "execution_count": 11,
     "metadata": {},
     "output_type": "execute_result"
    }
   ],
   "source": [
    "test.describe()"
   ]
  },
  {
   "cell_type": "code",
   "execution_count": 12,
   "id": "7655439c",
   "metadata": {
    "execution": {
     "iopub.execute_input": "2023-12-25T18:20:35.184376Z",
     "iopub.status.busy": "2023-12-25T18:20:35.183780Z",
     "iopub.status.idle": "2023-12-25T18:20:35.206839Z",
     "shell.execute_reply": "2023-12-25T18:20:35.206029Z"
    },
    "papermill": {
     "duration": 0.032198,
     "end_time": "2023-12-25T18:20:35.208312",
     "exception": false,
     "start_time": "2023-12-25T18:20:35.176114",
     "status": "completed"
    },
    "tags": []
   },
   "outputs": [
    {
     "data": {
      "text/html": [
       "<div>\n",
       "<style scoped>\n",
       "    .dataframe tbody tr th:only-of-type {\n",
       "        vertical-align: middle;\n",
       "    }\n",
       "\n",
       "    .dataframe tbody tr th {\n",
       "        vertical-align: top;\n",
       "    }\n",
       "\n",
       "    .dataframe thead th {\n",
       "        text-align: right;\n",
       "    }\n",
       "</style>\n",
       "<table border=\"1\" class=\"dataframe\">\n",
       "  <thead>\n",
       "    <tr style=\"text-align: right;\">\n",
       "      <th></th>\n",
       "      <th>HomePlanet</th>\n",
       "      <th>CryoSleep</th>\n",
       "      <th>Cabin</th>\n",
       "      <th>Destination</th>\n",
       "      <th>VIP</th>\n",
       "      <th>Name</th>\n",
       "    </tr>\n",
       "  </thead>\n",
       "  <tbody>\n",
       "    <tr>\n",
       "      <th>count</th>\n",
       "      <td>4190</td>\n",
       "      <td>4184</td>\n",
       "      <td>4177</td>\n",
       "      <td>4185</td>\n",
       "      <td>4184</td>\n",
       "      <td>4183</td>\n",
       "    </tr>\n",
       "    <tr>\n",
       "      <th>unique</th>\n",
       "      <td>3</td>\n",
       "      <td>2</td>\n",
       "      <td>3265</td>\n",
       "      <td>3</td>\n",
       "      <td>2</td>\n",
       "      <td>4176</td>\n",
       "    </tr>\n",
       "    <tr>\n",
       "      <th>top</th>\n",
       "      <td>Earth</td>\n",
       "      <td>False</td>\n",
       "      <td>G/160/P</td>\n",
       "      <td>TRAPPIST-1e</td>\n",
       "      <td>False</td>\n",
       "      <td>Cints Erle</td>\n",
       "    </tr>\n",
       "    <tr>\n",
       "      <th>freq</th>\n",
       "      <td>2263</td>\n",
       "      <td>2640</td>\n",
       "      <td>8</td>\n",
       "      <td>2956</td>\n",
       "      <td>4110</td>\n",
       "      <td>2</td>\n",
       "    </tr>\n",
       "  </tbody>\n",
       "</table>\n",
       "</div>"
      ],
      "text/plain": [
       "       HomePlanet CryoSleep    Cabin  Destination    VIP        Name\n",
       "count        4190      4184     4177         4185   4184        4183\n",
       "unique          3         2     3265            3      2        4176\n",
       "top         Earth     False  G/160/P  TRAPPIST-1e  False  Cints Erle\n",
       "freq         2263      2640        8         2956   4110           2"
      ]
     },
     "execution_count": 12,
     "metadata": {},
     "output_type": "execute_result"
    }
   ],
   "source": [
    "test.describe(include=['O'])"
   ]
  },
  {
   "cell_type": "code",
   "execution_count": 13,
   "id": "b5798ea7",
   "metadata": {
    "execution": {
     "iopub.execute_input": "2023-12-25T18:20:35.222803Z",
     "iopub.status.busy": "2023-12-25T18:20:35.222537Z",
     "iopub.status.idle": "2023-12-25T18:20:35.232010Z",
     "shell.execute_reply": "2023-12-25T18:20:35.231285Z"
    },
    "papermill": {
     "duration": 0.018864,
     "end_time": "2023-12-25T18:20:35.233410",
     "exception": false,
     "start_time": "2023-12-25T18:20:35.214546",
     "status": "completed"
    },
    "tags": []
   },
   "outputs": [
    {
     "name": "stdout",
     "output_type": "stream",
     "text": [
      "<class 'pandas.core.frame.DataFrame'>\n",
      "Index: 4277 entries, 0013_01 to 9277_01\n",
      "Data columns (total 12 columns):\n",
      " #   Column        Non-Null Count  Dtype  \n",
      "---  ------        --------------  -----  \n",
      " 0   HomePlanet    4190 non-null   object \n",
      " 1   CryoSleep     4184 non-null   object \n",
      " 2   Cabin         4177 non-null   object \n",
      " 3   Destination   4185 non-null   object \n",
      " 4   Age           4186 non-null   float64\n",
      " 5   VIP           4184 non-null   object \n",
      " 6   RoomService   4195 non-null   float64\n",
      " 7   FoodCourt     4171 non-null   float64\n",
      " 8   ShoppingMall  4179 non-null   float64\n",
      " 9   Spa           4176 non-null   float64\n",
      " 10  VRDeck        4197 non-null   float64\n",
      " 11  Name          4183 non-null   object \n",
      "dtypes: float64(6), object(6)\n",
      "memory usage: 434.4+ KB\n"
     ]
    }
   ],
   "source": [
    "test.info()"
   ]
  },
  {
   "cell_type": "code",
   "execution_count": 14,
   "id": "dcd5e759",
   "metadata": {
    "execution": {
     "iopub.execute_input": "2023-12-25T18:20:35.247863Z",
     "iopub.status.busy": "2023-12-25T18:20:35.247443Z",
     "iopub.status.idle": "2023-12-25T18:20:35.253900Z",
     "shell.execute_reply": "2023-12-25T18:20:35.253006Z"
    },
    "papermill": {
     "duration": 0.016327,
     "end_time": "2023-12-25T18:20:35.255800",
     "exception": false,
     "start_time": "2023-12-25T18:20:35.239473",
     "status": "completed"
    },
    "tags": []
   },
   "outputs": [
    {
     "data": {
      "text/plain": [
       "HomePlanet       87\n",
       "CryoSleep        93\n",
       "Cabin           100\n",
       "Destination      92\n",
       "Age              91\n",
       "VIP              93\n",
       "RoomService      82\n",
       "FoodCourt       106\n",
       "ShoppingMall     98\n",
       "Spa             101\n",
       "VRDeck           80\n",
       "Name             94\n",
       "dtype: int64"
      ]
     },
     "execution_count": 14,
     "metadata": {},
     "output_type": "execute_result"
    }
   ],
   "source": [
    "test.isnull().sum()"
   ]
  },
  {
   "cell_type": "markdown",
   "id": "9a9e2c06",
   "metadata": {
    "papermill": {
     "duration": 0.007171,
     "end_time": "2023-12-25T18:20:35.272853",
     "exception": false,
     "start_time": "2023-12-25T18:20:35.265682",
     "status": "completed"
    },
    "tags": []
   },
   "source": [
    "all the same"
   ]
  },
  {
   "cell_type": "markdown",
   "id": "7ecdd8bd",
   "metadata": {
    "papermill": {
     "duration": 0.006583,
     "end_time": "2023-12-25T18:20:35.286532",
     "exception": false,
     "start_time": "2023-12-25T18:20:35.279949",
     "status": "completed"
    },
    "tags": []
   },
   "source": [
    "## Dependencies between Features and Transported "
   ]
  },
  {
   "cell_type": "code",
   "execution_count": 15,
   "id": "070a987d",
   "metadata": {
    "execution": {
     "iopub.execute_input": "2023-12-25T18:20:35.300993Z",
     "iopub.status.busy": "2023-12-25T18:20:35.300699Z",
     "iopub.status.idle": "2023-12-25T18:20:35.309010Z",
     "shell.execute_reply": "2023-12-25T18:20:35.308385Z"
    },
    "papermill": {
     "duration": 0.017663,
     "end_time": "2023-12-25T18:20:35.310617",
     "exception": false,
     "start_time": "2023-12-25T18:20:35.292954",
     "status": "completed"
    },
    "tags": []
   },
   "outputs": [
    {
     "name": "stdout",
     "output_type": "stream",
     "text": [
      "Transported: 4378 (50.4%)\n",
      "Not transported: 4315 (49.6%)\n",
      "Total: 8693\n"
     ]
    }
   ],
   "source": [
    "transported = train[train['Transported'] == 1]\n",
    "not_transported = train[train['Transported'] == 0]\n",
    "\n",
    "print(\"Transported: %i (%.1f%%)\" %(len(transported), (len(transported)/len(train)*100)))\n",
    "print(\"Not transported: %i (%.1f%%)\" %(len(not_transported), (len(not_transported)/len(train)*100)))\n",
    "print(\"Total:\", len(train))"
   ]
  },
  {
   "cell_type": "markdown",
   "id": "cedaae0f",
   "metadata": {
    "papermill": {
     "duration": 0.007013,
     "end_time": "2023-12-25T18:20:35.327301",
     "exception": false,
     "start_time": "2023-12-25T18:20:35.320288",
     "status": "completed"
    },
    "tags": []
   },
   "source": [
    "### Home Planet vs. Transported\n",
    "Passengers from Europe are more likely to survive"
   ]
  },
  {
   "cell_type": "code",
   "execution_count": 16,
   "id": "8a1d96db",
   "metadata": {
    "execution": {
     "iopub.execute_input": "2023-12-25T18:20:35.344641Z",
     "iopub.status.busy": "2023-12-25T18:20:35.344171Z",
     "iopub.status.idle": "2023-12-25T18:20:35.350774Z",
     "shell.execute_reply": "2023-12-25T18:20:35.350059Z"
    },
    "papermill": {
     "duration": 0.01634,
     "end_time": "2023-12-25T18:20:35.352164",
     "exception": false,
     "start_time": "2023-12-25T18:20:35.335824",
     "status": "completed"
    },
    "tags": []
   },
   "outputs": [
    {
     "data": {
      "text/plain": [
       "HomePlanet\n",
       "Earth     4602\n",
       "Europa    2131\n",
       "Mars      1759\n",
       "Name: count, dtype: int64"
      ]
     },
     "execution_count": 16,
     "metadata": {},
     "output_type": "execute_result"
    }
   ],
   "source": [
    "train['HomePlanet'].value_counts()"
   ]
  },
  {
   "cell_type": "code",
   "execution_count": 17,
   "id": "9ff03f8c",
   "metadata": {
    "execution": {
     "iopub.execute_input": "2023-12-25T18:20:35.366863Z",
     "iopub.status.busy": "2023-12-25T18:20:35.366586Z",
     "iopub.status.idle": "2023-12-25T18:20:35.375413Z",
     "shell.execute_reply": "2023-12-25T18:20:35.374892Z"
    },
    "papermill": {
     "duration": 0.017642,
     "end_time": "2023-12-25T18:20:35.376614",
     "exception": false,
     "start_time": "2023-12-25T18:20:35.358972",
     "status": "completed"
    },
    "tags": []
   },
   "outputs": [
    {
     "data": {
      "text/plain": [
       "HomePlanet  Transported\n",
       "Earth       False          2651\n",
       "            True           1951\n",
       "Europa      True           1404\n",
       "            False           727\n",
       "Mars        True            920\n",
       "            False           839\n",
       "Name: count, dtype: int64"
      ]
     },
     "execution_count": 17,
     "metadata": {},
     "output_type": "execute_result"
    }
   ],
   "source": [
    "train.groupby('HomePlanet').Transported.value_counts()"
   ]
  },
  {
   "cell_type": "code",
   "execution_count": 18,
   "id": "47ce8cfd",
   "metadata": {
    "execution": {
     "iopub.execute_input": "2023-12-25T18:20:35.391183Z",
     "iopub.status.busy": "2023-12-25T18:20:35.390969Z",
     "iopub.status.idle": "2023-12-25T18:20:35.399399Z",
     "shell.execute_reply": "2023-12-25T18:20:35.398716Z"
    },
    "papermill": {
     "duration": 0.017462,
     "end_time": "2023-12-25T18:20:35.400701",
     "exception": false,
     "start_time": "2023-12-25T18:20:35.383239",
     "status": "completed"
    },
    "tags": []
   },
   "outputs": [
    {
     "data": {
      "text/html": [
       "<div>\n",
       "<style scoped>\n",
       "    .dataframe tbody tr th:only-of-type {\n",
       "        vertical-align: middle;\n",
       "    }\n",
       "\n",
       "    .dataframe tbody tr th {\n",
       "        vertical-align: top;\n",
       "    }\n",
       "\n",
       "    .dataframe thead th {\n",
       "        text-align: right;\n",
       "    }\n",
       "</style>\n",
       "<table border=\"1\" class=\"dataframe\">\n",
       "  <thead>\n",
       "    <tr style=\"text-align: right;\">\n",
       "      <th></th>\n",
       "      <th>HomePlanet</th>\n",
       "      <th>Transported</th>\n",
       "    </tr>\n",
       "  </thead>\n",
       "  <tbody>\n",
       "    <tr>\n",
       "      <th>0</th>\n",
       "      <td>Earth</td>\n",
       "      <td>0.423946</td>\n",
       "    </tr>\n",
       "    <tr>\n",
       "      <th>1</th>\n",
       "      <td>Europa</td>\n",
       "      <td>0.658846</td>\n",
       "    </tr>\n",
       "    <tr>\n",
       "      <th>2</th>\n",
       "      <td>Mars</td>\n",
       "      <td>0.523024</td>\n",
       "    </tr>\n",
       "  </tbody>\n",
       "</table>\n",
       "</div>"
      ],
      "text/plain": [
       "  HomePlanet  Transported\n",
       "0      Earth     0.423946\n",
       "1     Europa     0.658846\n",
       "2       Mars     0.523024"
      ]
     },
     "execution_count": 18,
     "metadata": {},
     "output_type": "execute_result"
    }
   ],
   "source": [
    "train[['HomePlanet', 'Transported']].groupby('HomePlanet', as_index=False).mean()"
   ]
  },
  {
   "cell_type": "code",
   "execution_count": 19,
   "id": "b78881e8",
   "metadata": {
    "execution": {
     "iopub.execute_input": "2023-12-25T18:20:35.416529Z",
     "iopub.status.busy": "2023-12-25T18:20:35.416217Z",
     "iopub.status.idle": "2023-12-25T18:20:35.571029Z",
     "shell.execute_reply": "2023-12-25T18:20:35.570574Z"
    },
    "papermill": {
     "duration": 0.164132,
     "end_time": "2023-12-25T18:20:35.572329",
     "exception": false,
     "start_time": "2023-12-25T18:20:35.408197",
     "status": "completed"
    },
    "tags": []
   },
   "outputs": [
    {
     "name": "stderr",
     "output_type": "stream",
     "text": [
      "/tmp/ipykernel_96729/1696645268.py:1: FutureWarning: \n",
      "\n",
      "The `ci` parameter is deprecated. Use `errorbar=None` for the same effect.\n",
      "\n",
      "  sns.barplot(x='HomePlanet', y='Transported', data=train, ci=None)\n"
     ]
    },
    {
     "data": {
      "text/plain": [
       "<Axes: xlabel='HomePlanet', ylabel='Transported'>"
      ]
     },
     "execution_count": 19,
     "metadata": {},
     "output_type": "execute_result"
    },
    {
     "data": {
      "image/png": "[encoded data removed]",
      "text/plain": [
       "<Figure size 640x480 with 1 Axes>"
      ]
     },
     "metadata": {},
     "output_type": "display_data"
    }
   ],
   "source": [
    "sns.barplot(x='HomePlanet', y='Transported', data=train, ci=None)"
   ]
  },
  {
   "cell_type": "markdown",
   "id": "a33a626a",
   "metadata": {
    "papermill": {
     "duration": 0.009159,
     "end_time": "2023-12-25T18:20:35.590748",
     "exception": false,
     "start_time": "2023-12-25T18:20:35.581589",
     "status": "completed"
    },
    "tags": []
   },
   "source": [
    "### CryoSleep vs. Transported\n",
    " Passengers in cryosleep are more likely to survive"
   ]
  },
  {
   "cell_type": "code",
   "execution_count": 20,
   "id": "9b03ee56",
   "metadata": {
    "execution": {
     "iopub.execute_input": "2023-12-25T18:20:35.607936Z",
     "iopub.status.busy": "2023-12-25T18:20:35.607737Z",
     "iopub.status.idle": "2023-12-25T18:20:35.613177Z",
     "shell.execute_reply": "2023-12-25T18:20:35.612691Z"
    },
    "papermill": {
     "duration": 0.015418,
     "end_time": "2023-12-25T18:20:35.614865",
     "exception": false,
     "start_time": "2023-12-25T18:20:35.599447",
     "status": "completed"
    },
    "tags": []
   },
   "outputs": [
    {
     "data": {
      "text/plain": [
       "CryoSleep\n",
       "False    5439\n",
       "True     3037\n",
       "Name: count, dtype: int64"
      ]
     },
     "execution_count": 20,
     "metadata": {},
     "output_type": "execute_result"
    }
   ],
   "source": [
    "train.CryoSleep.value_counts()"
   ]
  },
  {
   "cell_type": "code",
   "execution_count": 21,
   "id": "1c1df092",
   "metadata": {
    "execution": {
     "iopub.execute_input": "2023-12-25T18:20:35.631490Z",
     "iopub.status.busy": "2023-12-25T18:20:35.630790Z",
     "iopub.status.idle": "2023-12-25T18:20:35.640059Z",
     "shell.execute_reply": "2023-12-25T18:20:35.639219Z"
    },
    "papermill": {
     "duration": 0.019986,
     "end_time": "2023-12-25T18:20:35.641592",
     "exception": false,
     "start_time": "2023-12-25T18:20:35.621606",
     "status": "completed"
    },
    "tags": []
   },
   "outputs": [
    {
     "data": {
      "text/plain": [
       "CryoSleep  Transported\n",
       "False      False          3650\n",
       "           True           1789\n",
       "True       True           2483\n",
       "           False           554\n",
       "Name: count, dtype: int64"
      ]
     },
     "execution_count": 21,
     "metadata": {},
     "output_type": "execute_result"
    }
   ],
   "source": [
    "train.groupby('CryoSleep').Transported.value_counts()"
   ]
  },
  {
   "cell_type": "code",
   "execution_count": 22,
   "id": "ebf7fea8",
   "metadata": {
    "execution": {
     "iopub.execute_input": "2023-12-25T18:20:35.660735Z",
     "iopub.status.busy": "2023-12-25T18:20:35.659984Z",
     "iopub.status.idle": "2023-12-25T18:20:35.670045Z",
     "shell.execute_reply": "2023-12-25T18:20:35.669596Z"
    },
    "papermill": {
     "duration": 0.021404,
     "end_time": "2023-12-25T18:20:35.671367",
     "exception": false,
     "start_time": "2023-12-25T18:20:35.649963",
     "status": "completed"
    },
    "tags": []
   },
   "outputs": [
    {
     "data": {
      "text/html": [
       "<div>\n",
       "<style scoped>\n",
       "    .dataframe tbody tr th:only-of-type {\n",
       "        vertical-align: middle;\n",
       "    }\n",
       "\n",
       "    .dataframe tbody tr th {\n",
       "        vertical-align: top;\n",
       "    }\n",
       "\n",
       "    .dataframe thead th {\n",
       "        text-align: right;\n",
       "    }\n",
       "</style>\n",
       "<table border=\"1\" class=\"dataframe\">\n",
       "  <thead>\n",
       "    <tr style=\"text-align: right;\">\n",
       "      <th></th>\n",
       "      <th>CryoSleep</th>\n",
       "      <th>Transported</th>\n",
       "    </tr>\n",
       "  </thead>\n",
       "  <tbody>\n",
       "    <tr>\n",
       "      <th>0</th>\n",
       "      <td>False</td>\n",
       "      <td>0.328921</td>\n",
       "    </tr>\n",
       "    <tr>\n",
       "      <th>1</th>\n",
       "      <td>True</td>\n",
       "      <td>0.817583</td>\n",
       "    </tr>\n",
       "  </tbody>\n",
       "</table>\n",
       "</div>"
      ],
      "text/plain": [
       "  CryoSleep  Transported\n",
       "0     False     0.328921\n",
       "1      True     0.817583"
      ]
     },
     "execution_count": 22,
     "metadata": {},
     "output_type": "execute_result"
    }
   ],
   "source": [
    "train[['CryoSleep', 'Transported']].groupby('CryoSleep', as_index=False).mean()"
   ]
  },
  {
   "cell_type": "code",
   "execution_count": 23,
   "id": "e2722d3e",
   "metadata": {
    "execution": {
     "iopub.execute_input": "2023-12-25T18:20:35.691010Z",
     "iopub.status.busy": "2023-12-25T18:20:35.690620Z",
     "iopub.status.idle": "2023-12-25T18:20:35.899583Z",
     "shell.execute_reply": "2023-12-25T18:20:35.899083Z"
    },
    "papermill": {
     "duration": 0.222447,
     "end_time": "2023-12-25T18:20:35.901727",
     "exception": false,
     "start_time": "2023-12-25T18:20:35.679280",
     "status": "completed"
    },
    "tags": []
   },
   "outputs": [
    {
     "data": {
      "text/plain": [
       "<Axes: xlabel='CryoSleep', ylabel='Transported'>"
      ]
     },
     "execution_count": 23,
     "metadata": {},
     "output_type": "execute_result"
    },
    {
     "data": {
      "image/png": "[encoded data removed]",
      "text/plain": [
       "<Figure size 640x480 with 1 Axes>"
      ]
     },
     "metadata": {},
     "output_type": "display_data"
    }
   ],
   "source": [
    "sns.barplot(x='CryoSleep', y='Transported', data=train)"
   ]
  },
  {
   "cell_type": "markdown",
   "id": "ad1312ca",
   "metadata": {
    "papermill": {
     "duration": 0.007717,
     "end_time": "2023-12-25T18:20:35.917220",
     "exception": false,
     "start_time": "2023-12-25T18:20:35.909503",
     "status": "completed"
    },
    "tags": []
   },
   "source": [
    "### VIP vs. Transported\n",
    "Passengers without VIP status have a better chance of survival"
   ]
  },
  {
   "cell_type": "code",
   "execution_count": 24,
   "id": "8549c674",
   "metadata": {
    "execution": {
     "iopub.execute_input": "2023-12-25T18:20:35.933325Z",
     "iopub.status.busy": "2023-12-25T18:20:35.933104Z",
     "iopub.status.idle": "2023-12-25T18:20:35.938168Z",
     "shell.execute_reply": "2023-12-25T18:20:35.937657Z"
    },
    "papermill": {
     "duration": 0.01484,
     "end_time": "2023-12-25T18:20:35.939521",
     "exception": false,
     "start_time": "2023-12-25T18:20:35.924681",
     "status": "completed"
    },
    "tags": []
   },
   "outputs": [
    {
     "data": {
      "text/plain": [
       "VIP\n",
       "False    8291\n",
       "True      199\n",
       "Name: count, dtype: int64"
      ]
     },
     "execution_count": 24,
     "metadata": {},
     "output_type": "execute_result"
    }
   ],
   "source": [
    "train.VIP.value_counts()"
   ]
  },
  {
   "cell_type": "code",
   "execution_count": 25,
   "id": "2d8cd260",
   "metadata": {
    "execution": {
     "iopub.execute_input": "2023-12-25T18:20:35.956376Z",
     "iopub.status.busy": "2023-12-25T18:20:35.956029Z",
     "iopub.status.idle": "2023-12-25T18:20:35.962633Z",
     "shell.execute_reply": "2023-12-25T18:20:35.962187Z"
    },
    "papermill": {
     "duration": 0.016493,
     "end_time": "2023-12-25T18:20:35.963817",
     "exception": false,
     "start_time": "2023-12-25T18:20:35.947324",
     "status": "completed"
    },
    "tags": []
   },
   "outputs": [
    {
     "data": {
      "text/plain": [
       "VIP    Transported\n",
       "False  True           4198\n",
       "       False          4093\n",
       "True   False           123\n",
       "       True             76\n",
       "Name: count, dtype: int64"
      ]
     },
     "execution_count": 25,
     "metadata": {},
     "output_type": "execute_result"
    }
   ],
   "source": [
    "train.groupby('VIP').Transported.value_counts()"
   ]
  },
  {
   "cell_type": "code",
   "execution_count": 26,
   "id": "47e7e5f7",
   "metadata": {
    "execution": {
     "iopub.execute_input": "2023-12-25T18:20:35.980763Z",
     "iopub.status.busy": "2023-12-25T18:20:35.980417Z",
     "iopub.status.idle": "2023-12-25T18:20:35.990053Z",
     "shell.execute_reply": "2023-12-25T18:20:35.989319Z"
    },
    "papermill": {
     "duration": 0.019874,
     "end_time": "2023-12-25T18:20:35.991219",
     "exception": false,
     "start_time": "2023-12-25T18:20:35.971345",
     "status": "completed"
    },
    "tags": []
   },
   "outputs": [
    {
     "data": {
      "text/html": [
       "<div>\n",
       "<style scoped>\n",
       "    .dataframe tbody tr th:only-of-type {\n",
       "        vertical-align: middle;\n",
       "    }\n",
       "\n",
       "    .dataframe tbody tr th {\n",
       "        vertical-align: top;\n",
       "    }\n",
       "\n",
       "    .dataframe thead th {\n",
       "        text-align: right;\n",
       "    }\n",
       "</style>\n",
       "<table border=\"1\" class=\"dataframe\">\n",
       "  <thead>\n",
       "    <tr style=\"text-align: right;\">\n",
       "      <th></th>\n",
       "      <th>VIP</th>\n",
       "      <th>Transported</th>\n",
       "    </tr>\n",
       "  </thead>\n",
       "  <tbody>\n",
       "    <tr>\n",
       "      <th>0</th>\n",
       "      <td>False</td>\n",
       "      <td>0.506332</td>\n",
       "    </tr>\n",
       "    <tr>\n",
       "      <th>1</th>\n",
       "      <td>True</td>\n",
       "      <td>0.381910</td>\n",
       "    </tr>\n",
       "  </tbody>\n",
       "</table>\n",
       "</div>"
      ],
      "text/plain": [
       "     VIP  Transported\n",
       "0  False     0.506332\n",
       "1   True     0.381910"
      ]
     },
     "execution_count": 26,
     "metadata": {},
     "output_type": "execute_result"
    }
   ],
   "source": [
    "train[['VIP', 'Transported']].groupby(['VIP'], as_index=False).mean()"
   ]
  },
  {
   "cell_type": "code",
   "execution_count": 27,
   "id": "ab6ec55b",
   "metadata": {
    "execution": {
     "iopub.execute_input": "2023-12-25T18:20:36.008545Z",
     "iopub.status.busy": "2023-12-25T18:20:36.008159Z",
     "iopub.status.idle": "2023-12-25T18:20:36.204831Z",
     "shell.execute_reply": "2023-12-25T18:20:36.203934Z"
    },
    "papermill": {
     "duration": 0.207904,
     "end_time": "2023-12-25T18:20:36.206427",
     "exception": false,
     "start_time": "2023-12-25T18:20:35.998523",
     "status": "completed"
    },
    "tags": []
   },
   "outputs": [
    {
     "data": {
      "text/plain": [
       "<Axes: xlabel='VIP', ylabel='Transported'>"
      ]
     },
     "execution_count": 27,
     "metadata": {},
     "output_type": "execute_result"
    },
    {
     "data": {
      "image/png": "[encoded data removed]",
      "text/plain": [
       "<Figure size 640x480 with 1 Axes>"
      ]
     },
     "metadata": {},
     "output_type": "display_data"
    }
   ],
   "source": [
    "sns.barplot(x='VIP', y='Transported', data=train)"
   ]
  },
  {
   "cell_type": "markdown",
   "id": "b9d4efad",
   "metadata": {
    "papermill": {
     "duration": 0.008029,
     "end_time": "2023-12-25T18:20:36.222266",
     "exception": false,
     "start_time": "2023-12-25T18:20:36.214237",
     "status": "completed"
    },
    "tags": []
   },
   "source": [
    "The VIP column does not greatly affect transportation"
   ]
  },
  {
   "cell_type": "markdown",
   "id": "384c611e",
   "metadata": {
    "papermill": {
     "duration": 0.007698,
     "end_time": "2023-12-25T18:20:36.237831",
     "exception": false,
     "start_time": "2023-12-25T18:20:36.230133",
     "status": "completed"
    },
    "tags": []
   },
   "source": [
    "### HomePlanet & CryoSpleep vs. Transported\n"
   ]
  },
  {
   "cell_type": "code",
   "execution_count": 28,
   "id": "20abfc96",
   "metadata": {
    "execution": {
     "iopub.execute_input": "2023-12-25T18:20:36.255606Z",
     "iopub.status.busy": "2023-12-25T18:20:36.255399Z",
     "iopub.status.idle": "2023-12-25T18:20:36.400376Z",
     "shell.execute_reply": "2023-12-25T18:20:36.399602Z"
    },
    "papermill": {
     "duration": 0.156052,
     "end_time": "2023-12-25T18:20:36.401782",
     "exception": false,
     "start_time": "2023-12-25T18:20:36.245730",
     "status": "completed"
    },
    "tags": []
   },
   "outputs": [
    {
     "name": "stdout",
     "output_type": "stream",
     "text": [
      "CryoSleep   False  True \n",
      "HomePlanet              \n",
      "Earth        3106   1382\n",
      "Europa       1162    911\n",
      "Mars         1047    669\n"
     ]
    },
    {
     "data": {
      "text/plain": [
       "Text(0, 0.5, 'Percentage')"
      ]
     },
     "execution_count": 28,
     "metadata": {},
     "output_type": "execute_result"
    },
    {
     "data": {
      "image/png": "[encoded data removed]",
      "text/plain": [
       "<Figure size 640x480 with 1 Axes>"
      ]
     },
     "metadata": {},
     "output_type": "display_data"
    }
   ],
   "source": [
    "tab = pd.crosstab(train['HomePlanet'], train['CryoSleep'])\n",
    "print (tab)\n",
    "\n",
    "tab.div(tab.sum(1).astype(float), axis=0).plot(kind=\"bar\", stacked=True)\n",
    "plt.xlabel('HomePlanet')\n",
    "plt.ylabel('Percentage')"
   ]
  },
  {
   "cell_type": "code",
   "execution_count": 29,
   "id": "c9d9f2a5",
   "metadata": {
    "execution": {
     "iopub.execute_input": "2023-12-25T18:20:36.420983Z",
     "iopub.status.busy": "2023-12-25T18:20:36.420774Z",
     "iopub.status.idle": "2023-12-25T18:20:36.805295Z",
     "shell.execute_reply": "2023-12-25T18:20:36.804370Z"
    },
    "papermill": {
     "duration": 0.395566,
     "end_time": "2023-12-25T18:20:36.806577",
     "exception": false,
     "start_time": "2023-12-25T18:20:36.411011",
     "status": "completed"
    },
    "tags": []
   },
   "outputs": [
    {
     "data": {
      "text/plain": [
       "<seaborn.axisgrid.FacetGrid at 0x7f6131125660>"
      ]
     },
     "execution_count": 29,
     "metadata": {},
     "output_type": "execute_result"
    },
    {
     "data": {
      "image/png": "[encoded data removed]",
      "text/plain": [
       "<Figure size 1096.72x500 with 1 Axes>"
      ]
     },
     "metadata": {},
     "output_type": "display_data"
    }
   ],
   "source": [
    "sns.catplot(x='HomePlanet', y='Transported', hue='CryoSleep', aspect=2, data=train, kind='point')"
   ]
  },
  {
   "cell_type": "markdown",
   "id": "95eff4c2",
   "metadata": {
    "papermill": {
     "duration": 0.008966,
     "end_time": "2023-12-25T18:20:36.824071",
     "exception": false,
     "start_time": "2023-12-25T18:20:36.815105",
     "status": "completed"
    },
    "tags": []
   },
   "source": [
    "- Passengers in cryosleep from Europa have almost 100% chance of transportation\n",
    "- Passengers who are not in cryosleep and from Mars have the lowest probability of transportation"
   ]
  },
  {
   "cell_type": "markdown",
   "id": "0b9adfd9",
   "metadata": {
    "papermill": {
     "duration": 0.009634,
     "end_time": "2023-12-25T18:20:36.842366",
     "exception": false,
     "start_time": "2023-12-25T18:20:36.832732",
     "status": "completed"
    },
    "tags": []
   },
   "source": [
    "### Destination vs. Transported\n",
    "Passengers who flew in 55 Cancri e have a great chance of transportation"
   ]
  },
  {
   "cell_type": "code",
   "execution_count": 30,
   "id": "e98ea06a",
   "metadata": {
    "execution": {
     "iopub.execute_input": "2023-12-25T18:20:36.862471Z",
     "iopub.status.busy": "2023-12-25T18:20:36.862236Z",
     "iopub.status.idle": "2023-12-25T18:20:36.868707Z",
     "shell.execute_reply": "2023-12-25T18:20:36.867960Z"
    },
    "papermill": {
     "duration": 0.018886,
     "end_time": "2023-12-25T18:20:36.870470",
     "exception": false,
     "start_time": "2023-12-25T18:20:36.851584",
     "status": "completed"
    },
    "tags": []
   },
   "outputs": [
    {
     "data": {
      "text/plain": [
       "Destination\n",
       "TRAPPIST-1e      5915\n",
       "55 Cancri e      1800\n",
       "PSO J318.5-22     796\n",
       "Name: count, dtype: int64"
      ]
     },
     "execution_count": 30,
     "metadata": {},
     "output_type": "execute_result"
    }
   ],
   "source": [
    "train.Destination.value_counts()"
   ]
  },
  {
   "cell_type": "code",
   "execution_count": 31,
   "id": "b07c7840",
   "metadata": {
    "execution": {
     "iopub.execute_input": "2023-12-25T18:20:36.893212Z",
     "iopub.status.busy": "2023-12-25T18:20:36.892547Z",
     "iopub.status.idle": "2023-12-25T18:20:37.170097Z",
     "shell.execute_reply": "2023-12-25T18:20:37.169471Z"
    },
    "papermill": {
     "duration": 0.290125,
     "end_time": "2023-12-25T18:20:37.171331",
     "exception": false,
     "start_time": "2023-12-25T18:20:36.881206",
     "status": "completed"
    },
    "tags": []
   },
   "outputs": [
    {
     "data": {
      "text/plain": [
       "<Axes: xlabel='Destination', ylabel='Transported'>"
      ]
     },
     "execution_count": 31,
     "metadata": {},
     "output_type": "execute_result"
    },
    {
     "data": {
      "image/png": "[encoded data removed]",
      "text/plain": [
       "<Figure size 640x480 with 1 Axes>"
      ]
     },
     "metadata": {},
     "output_type": "display_data"
    }
   ],
   "source": [
    "sns.barplot(x='Destination', y='Transported', data=train)"
   ]
  }
 ],
 "metadata": {
  "kernelspec": {
   "display_name": "Python 3 (ipykernel)",
   "language": "python",
   "name": "python3"
  },
  "language_info": {
   "codemirror_mode": {
    "name": "ipython",
    "version": 3
   },
   "file_extension": ".py",
   "mimetype": "text/x-python",
   "name": "python",
   "nbconvert_exporter": "python",
   "pygments_lexer": "ipython3",
   "version": "3.10.12"
  },
  "papermill": {
   "default_parameters": {},
   "duration": 4.604308,
   "end_time": "2023-12-25T18:20:37.698942",
   "environment_variables": {},
   "exception": null,
   "input_path": "/home/anver/Projects/NN/Elyra/1partGadzhiev_SpaceshipTitanic.ipynb",
   "output_path": "/home/anver/Projects/NN/Elyra/1partGadzhiev_SpaceshipTitanic.ipynb",
   "parameters": {},
   "start_time": "2023-12-25T18:20:33.094634",
   "version": "2.5.0"
  },
  "vscode": {
   "interpreter": {
    "hash": "44a16ee42c888f6e3350a1ea509ea05c5716c44246c7f0d874e8b6693aa4c318"
   }
  }
 },
 "nbformat": 4,
 "nbformat_minor": 5
}